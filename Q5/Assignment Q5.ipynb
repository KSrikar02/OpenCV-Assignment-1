{
 "cells": [
  {
   "cell_type": "code",
   "execution_count": 5,
   "id": "17c991b5",
   "metadata": {},
   "outputs": [],
   "source": [
    "import cv2\n",
    "\n",
    "# Open the video file\n",
    "cap = cv2.VideoCapture(r\"C:\\Users\\umasr\\Downloads\\DIP assignment\\Q3\\moon_gray_contrast.mp4\")\n",
    "\n",
    "# Check if the video is successfully opened\n",
    "if not cap.isOpened():\n",
    "    print('Error opening video file')\n",
    "\n",
    "# Define the minimum and maximum gray levels\n",
    "min_gray_level = 100\n",
    "max_gray_level = 200\n",
    "\n",
    "# Get the frame dimensions and FPS of the input video\n",
    "frame_width = int(cap.get(cv2.CAP_PROP_FRAME_WIDTH))\n",
    "frame_height = int(cap.get(cv2.CAP_PROP_FRAME_HEIGHT))\n",
    "fps = int(cap.get(cv2.CAP_PROP_FPS))\n",
    "\n",
    "# Define the codec and create VideoWriter object\n",
    "fourcc = cv2.VideoWriter_fourcc(*'mp4v')\n",
    "out = cv2.VideoWriter('output.mp4', fourcc, fps, (frame_width, frame_height), isColor=False)\n",
    "\n",
    "# Loop through each frame of the video\n",
    "while cap.isOpened():\n",
    "    # Read a frame from the video\n",
    "    ret, frame = cap.read()\n",
    "\n",
    "    # Check if the frame is successfully read\n",
    "    if not ret:\n",
    "        break\n",
    "\n",
    "    # Convert the frame to grayscale\n",
    "    gray = cv2.cvtColor(frame, cv2.COLOR_BGR2GRAY)\n",
    "\n",
    "    # Apply gray-level slicing to the grayscale frame\n",
    "    mask = cv2.inRange(gray, min_gray_level, max_gray_level)\n",
    "    result = cv2.bitwise_and(gray, gray, mask=mask)\n",
    "\n",
    "    # Write the resulting frame to the output video file\n",
    "    out.write(result)\n",
    "\n",
    "    # Display the resulting frame\n",
    "    cv2.imshow('Gray-level sliced frame', result)\n",
    "\n",
    "    # Wait for the user to press 'q' key to exit\n",
    "    if cv2.waitKey(25) & 0xFF == ord('q'):\n",
    "        break\n",
    "\n",
    "# Release the video capture object, video writer object, and close all windows\n",
    "cap.release()\n",
    "out.release()\n",
    "cv2.destroyAllWindows()\n"
   ]
  },
  {
   "cell_type": "code",
   "execution_count": null,
   "id": "97fb4a79",
   "metadata": {},
   "outputs": [],
   "source": []
  }
 ],
 "metadata": {
  "kernelspec": {
   "display_name": "Python 3 (ipykernel)",
   "language": "python",
   "name": "python3"
  },
  "language_info": {
   "codemirror_mode": {
    "name": "ipython",
    "version": 3
   },
   "file_extension": ".py",
   "mimetype": "text/x-python",
   "name": "python",
   "nbconvert_exporter": "python",
   "pygments_lexer": "ipython3",
   "version": "3.9.13"
  }
 },
 "nbformat": 4,
 "nbformat_minor": 5
}
