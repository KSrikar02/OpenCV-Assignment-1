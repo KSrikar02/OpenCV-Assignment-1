{
 "cells": [
  {
   "cell_type": "code",
   "execution_count": 5,
   "id": "210e80e9",
   "metadata": {},
   "outputs": [],
   "source": [
    " import cv2\n",
    "\n",
    "# Open the input video file\n",
    "cap = cv2.VideoCapture(r\"C:\\Users\\umasr\\Downloads\\moon.mp4\")\n",
    "\n",
    "# Define the output video codec\n",
    "fourcc = cv2.VideoWriter_fourcc(*'mp4v')\n",
    "\n",
    "# Get the input video frame rate, size, and shape\n",
    "fps = cap.get(cv2.CAP_PROP_FPS)\n",
    "size = (int(cap.get(cv2.CAP_PROP_FRAME_WIDTH)), int(cap.get(cv2.CAP_PROP_FRAME_HEIGHT)))\n",
    "shape = (size[1], size[0]) # Rows (height), columns (width)\n",
    "\n",
    "# Define the output video file names\n",
    "out_files = ['moon_gray_bl.mp4']\n",
    "\n",
    "# Create the output video writers for each interpolation method\n",
    "outs = [cv2.VideoWriter(out_file, fourcc, fps, (2*size[0], 2*size[1]), isColor=False)\n",
    "        for out_file in out_files]\n",
    "\n",
    "# Loop through the input video frames\n",
    "while cap.isOpened():\n",
    "    # Read the next frame\n",
    "    ret, frame = cap.read()\n",
    "    if not ret:\n",
    "        break\n",
    "    \n",
    "    # Convert the frame to grayscale\n",
    "    gray = cv2.cvtColor(frame, cv2.COLOR_BGR2GRAY)\n",
    "    \n",
    "    # Resize the frame using bilinear interpolation\n",
    "    bl_resized = cv2.resize(gray, (2*size[0], 2*size[1]), interpolation=cv2.INTER_LINEAR)\n",
    "    outs[0].write(bl_resized)\n",
    "    \n",
    "    # Display the resized frame\n",
    "    cv2.imshow('Resized Frame', bl_resized)\n",
    "    if cv2.waitKey(1) & 0xFF == ord('q'):\n",
    "            break\n",
    "    \n",
    "# Release the video capture and writer objects\n",
    "cap.release()\n",
    "for out in outs:\n",
    "    out.release()\n",
    "\n",
    "# Close all windows\n",
    "cv2.destroyAllWindows()\n"
   ]
  },
  {
   "cell_type": "code",
   "execution_count": null,
   "id": "9b51bfa3",
   "metadata": {},
   "outputs": [],
   "source": []
  }
 ],
 "metadata": {
  "kernelspec": {
   "display_name": "Python 3 (ipykernel)",
   "language": "python",
   "name": "python3"
  },
  "language_info": {
   "codemirror_mode": {
    "name": "ipython",
    "version": 3
   },
   "file_extension": ".py",
   "mimetype": "text/x-python",
   "name": "python",
   "nbconvert_exporter": "python",
   "pygments_lexer": "ipython3",
   "version": "3.9.13"
  }
 },
 "nbformat": 4,
 "nbformat_minor": 5
}
