{
 "cells": [
  {
   "cell_type": "code",
   "execution_count": 2,
   "id": "6d8baaf0",
   "metadata": {},
   "outputs": [],
   "source": [
    "import cv2  #importing opencv library\n",
    "\n",
    "cap = cv2.VideoCapture(r\"C:\\Users\\umasr\\Downloads\\moon.mp4\") #reading and getting the vid\n",
    "\n",
    "fourcc = cv2.VideoWriter_fourcc(*'mp4v')\n",
    "out = cv2.VideoWriter('output_video.mp4', fourcc, cap.get(cv2.CAP_PROP_FPS), (int(cap.get(cv2.CAP_PROP_FRAME_WIDTH)), int(cap.get(cv2.CAP_PROP_FRAME_HEIGHT))), False)\n",
    "#displaying the video in frames\n",
    "while(cap.isOpened()):\n",
    "    ret, frame = cap.read() \n",
    "    if ret == True:\n",
    "        gray = cv2.cvtColor(frame, cv2.COLOR_BGR2GRAY) #changing each frame into greyscale\n",
    "        out.write(gray)\n",
    "        cv2.imshow('Grayscale Video',gray) #showing the greyscale video\n",
    "        if cv2.waitKey(1) & 0xFF == ord('q'):\n",
    "            break\n",
    "    else:\n",
    "        break\n",
    "\n",
    "cap.release()\n",
    "out.release()\n",
    "cv2.destroyAllWindows()"
   ]
  },
  {
   "cell_type": "code",
   "execution_count": null,
   "id": "a3266db3",
   "metadata": {},
   "outputs": [],
   "source": []
  }
 ],
 "metadata": {
  "kernelspec": {
   "display_name": "Python 3 (ipykernel)",
   "language": "python",
   "name": "python3"
  },
  "language_info": {
   "codemirror_mode": {
    "name": "ipython",
    "version": 3
   },
   "file_extension": ".py",
   "mimetype": "text/x-python",
   "name": "python",
   "nbconvert_exporter": "python",
   "pygments_lexer": "ipython3",
   "version": "3.9.13"
  }
 },
 "nbformat": 4,
 "nbformat_minor": 5
}
