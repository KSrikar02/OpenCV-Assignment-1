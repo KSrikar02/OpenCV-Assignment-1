{
 "cells": [
  {
   "cell_type": "code",
   "execution_count": 3,
   "id": "799f8b74",
   "metadata": {},
   "outputs": [],
   "source": [
    "import cv2\n",
    "import numpy as np\n",
    "\n",
    "# Read the input video\n",
    "cap = cv2.VideoCapture(r'C:\\Users\\umasr\\Downloads\\moon.mp4')\n",
    "\n",
    "# Create a VideoWriter object to save the output video\n",
    "fourcc = cv2.VideoWriter_fourcc(*'mp4v')\n",
    "out = cv2.VideoWriter('moon_gray_contrast.mp4', fourcc, cap.get(cv2.CAP_PROP_FPS), (int(cap.get(cv2.CAP_PROP_FRAME_WIDTH)), int(cap.get(cv2.CAP_PROP_FRAME_HEIGHT))), isColor=False)\n",
    "\n",
    "# Loop through each frame of the video, convert it to grayscale, apply power law transformation, and write the processed frame to the output video\n",
    "while(cap.isOpened()):\n",
    "    ret, frame = cap.read()\n",
    "    if ret == True:\n",
    "        # Convert the frame to grayscale\n",
    "        gray = cv2.cvtColor(frame, cv2.COLOR_BGR2GRAY)\n",
    "        \n",
    "        # Apply power law transformation for contrast enhancement\n",
    "        gamma = 0.5\n",
    "        gray_contrast = np.power(gray/255.0, gamma)\n",
    "        gray_contrast = np.uint8(gray_contrast*255)\n",
    "        \n",
    "        # Write the processed frame to the output video\n",
    "        out.write(gray_contrast)\n",
    "        \n",
    "        # Display the processed frame\n",
    "        cv2.imshow('frame', gray_contrast)\n",
    "        if cv2.waitKey(1) & 0xFF == ord('q'):\n",
    "            break\n",
    "    else:\n",
    "        break\n",
    "\n",
    "# Release the input and output video objects and close all windows\n",
    "cap.release()\n",
    "out.release()\n",
    "cv2.destroyAllWindows()\n"
   ]
  },
  {
   "cell_type": "code",
   "execution_count": null,
   "id": "9b976fb4",
   "metadata": {},
   "outputs": [],
   "source": []
  }
 ],
 "metadata": {
  "kernelspec": {
   "display_name": "Python 3 (ipykernel)",
   "language": "python",
   "name": "python3"
  },
  "language_info": {
   "codemirror_mode": {
    "name": "ipython",
    "version": 3
   },
   "file_extension": ".py",
   "mimetype": "text/x-python",
   "name": "python",
   "nbconvert_exporter": "python",
   "pygments_lexer": "ipython3",
   "version": "3.9.13"
  }
 },
 "nbformat": 4,
 "nbformat_minor": 5
}
