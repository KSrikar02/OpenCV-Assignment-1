{
 "cells": [
  {
   "cell_type": "code",
   "execution_count": 1,
   "id": "496d9801",
   "metadata": {},
   "outputs": [],
   "source": [
    "import cv2\n",
    "\n",
    "# Open the video file\n",
    "video_capture = cv2.VideoCapture(r\"C:\\Users\\umasr\\Downloads\\DIP assignment\\Q3\\moon_gray_contrast.mp4\")\n",
    "\n",
    "# Define the kernel for the low-pass filter\n",
    "kernel_size = (7, 7)\n",
    "kernel = cv2.getStructuringElement(cv2.MORPH_RECT, kernel_size)\n",
    "\n",
    "# Get the video dimensions and frame rate\n",
    "width = int(video_capture.get(cv2.CAP_PROP_FRAME_WIDTH))\n",
    "height = int(video_capture.get(cv2.CAP_PROP_FRAME_HEIGHT))\n",
    "fps = int(video_capture.get(cv2.CAP_PROP_FPS))\n",
    "\n",
    "# Define the codec and create a video writer object\n",
    "fourcc = cv2.VideoWriter_fourcc(*'mp4v')\n",
    "out = cv2.VideoWriter('filtered_video.mp4', fourcc, fps, (width, height), isColor=False)\n",
    "\n",
    "# Loop through each frame of the video\n",
    "while True:\n",
    "    # Read a frame from the video\n",
    "    ret, frame = video_capture.read()\n",
    "\n",
    "    # If we have reached the end of the video, break the loop\n",
    "    if not ret:\n",
    "        break\n",
    "\n",
    "    # Convert the frame to grayscale\n",
    "    gray = cv2.cvtColor(frame, cv2.COLOR_BGR2GRAY)\n",
    "\n",
    "    # Apply the low-pass filter to the grayscale frame\n",
    "    filtered = cv2.morphologyEx(gray, cv2.MORPH_OPEN, kernel)\n",
    "\n",
    "    # Write the filtered frame to the output video\n",
    "    out.write(filtered)\n",
    "\n",
    "    # Display the filtered frame\n",
    "    cv2.imshow('Filtered Video', filtered)\n",
    "\n",
    "    # Wait for a key press and check if it is the 'q' key to quit\n",
    "    if cv2.waitKey(1) & 0xFF == ord('q'):\n",
    "        break\n",
    "\n",
    "# Release the video capture, video writer, and destroy all windows\n",
    "video_capture.release()\n",
    "out.release()\n",
    "cv2.destroyAllWindows()\n"
   ]
  },
  {
   "cell_type": "code",
   "execution_count": null,
   "id": "ee6aeb94",
   "metadata": {},
   "outputs": [],
   "source": []
  }
 ],
 "metadata": {
  "kernelspec": {
   "display_name": "Python 3 (ipykernel)",
   "language": "python",
   "name": "python3"
  },
  "language_info": {
   "codemirror_mode": {
    "name": "ipython",
    "version": 3
   },
   "file_extension": ".py",
   "mimetype": "text/x-python",
   "name": "python",
   "nbconvert_exporter": "python",
   "pygments_lexer": "ipython3",
   "version": "3.9.13"
  }
 },
 "nbformat": 4,
 "nbformat_minor": 5
}
